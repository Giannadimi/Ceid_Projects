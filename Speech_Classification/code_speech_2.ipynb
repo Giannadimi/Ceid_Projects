{
  "cells": [
    {
      "cell_type": "code",
      "execution_count": 1,
      "metadata": {
        "colab": {
          "base_uri": "https://localhost:8080/"
        },
        "id": "7xMgleXM8_cy",
        "outputId": "2e9a4f68-2277-439d-ddce-500430594532"
      },
      "outputs": [
        {
          "name": "stdout",
          "output_type": "stream",
          "text": [
            "Mounted at /content/gdrive\n"
          ]
        }
      ],
      "source": [
        "# Mount the Google drive to the Colab notebook.\n",
        "# It means that I giving access to the files in your google drive to Colab notebook.\n",
        "from google.colab import drive\n",
        "drive.mount(\"/content/gdrive\", force_remount=True)"
      ]
    },
    {
      "cell_type": "code",
      "execution_count": 2,
      "metadata": {
        "colab": {
          "base_uri": "https://localhost:8080/"
        },
        "id": "le6hyjUH9Miq",
        "outputId": "8b7bcd9b-49d6-43d2-f373-115687ede4a9"
      },
      "outputs": [
        {
          "name": "stdout",
          "output_type": "stream",
          "text": [
            "/content/gdrive/MyDrive\n"
          ]
        }
      ],
      "source": [
        "# Change the current working directory to where you want to download the Kaggle dataset\n",
        "%cd /content/gdrive/MyDrive/"
      ]
    },
    {
      "cell_type": "code",
      "execution_count": 3,
      "metadata": {
        "id": "yhEZIhnO9Mf8"
      },
      "outputs": [],
      "source": [
        "# Import the relevant modules to be used later\n",
        "import os\n",
        "import struct\n",
        "import sys\n",
        "import re \n",
        "from tqdm import tqdm\n",
        "import pandas as pd # data processing, CSV file I/O (e.g. pd.read_csv)\n",
        "from glob import glob\n",
        "import glob \n",
        "import shutil\n",
        "import time\n",
        "import wave\n",
        "import pathlib\n",
        "from IPython.display import display, Audio\n",
        "import IPython\n",
        "\n",
        "# Math\n",
        "import numpy as np # linear algebra\n",
        "from scipy.fftpack import fft\n",
        "from scipy import signal\n",
        "from scipy.io import wavfile as wav\n",
        "from scipy.io import wavfile\n",
        "import librosa\n",
        "from sklearn.decomposition import PCA\n",
        "\n",
        "# Visualization\n",
        "import matplotlib.pyplot as plt\n",
        "import seaborn as sns\n",
        "import IPython.display as ipd\n",
        "import librosa.display\n",
        "    \n",
        "# Config matplotlib for inline plotting\n",
        "%matplotlib inline"
      ]
    },
    {
      "cell_type": "code",
      "execution_count": 4,
      "metadata": {
        "id": "rTYWnTZN9MdH"
      },
      "outputs": [],
      "source": [
        "# Defining our current directory path and the dataset path\n",
        "train_data_dir = '/content/gdrive/MyDrive/speech_commands_v02/'"
      ]
    },
    {
      "cell_type": "code",
      "execution_count": 5,
      "metadata": {
        "id": "culI9kD39Maa"
      },
      "outputs": [],
      "source": [
        "# Create a new dataframe without label '_background_noise_'\n",
        "train_labels = os.listdir(train_data_dir)\n",
        "wav, labels, paths = [], [], []\n",
        "for label in train_labels:\n",
        "    if label == '_background_noise_':\n",
        "        continue\n",
        "    files = os.listdir(train_data_dir + '/' + label)\n",
        "    for i in files:\n",
        "        if not i.endswith('wav'):\n",
        "            train_labels.remove('_background_noise_')\n",
        "            continue\n",
        "        wav.append(i)\n",
        "        labels.append(label)\n",
        "        paths.append(train_data_dir + label + '/' + i)\n",
        "\n",
        "label_df = pd.DataFrame(labels, columns=['label'])\n",
        "file_df = pd.DataFrame(wav, columns=['file'])\n",
        "path_df = pd.DataFrame(paths, columns=['path'])\n",
        "wav_df = pd.concat([label_df, file_df, path_df], axis = 1)"
      ]
    },
    {
      "cell_type": "code",
      "execution_count": 6,
      "metadata": {
        "colab": {
          "base_uri": "https://localhost:8080/",
          "height": 424
        },
        "id": "9jsx1BC99MU0",
        "outputId": "fe273642-9c00-47e1-f1dd-808f6d8972b5"
      },
      "outputs": [
        {
          "data": {
            "text/html": [
              "\n",
              "  <div id=\"df-2e579e6e-361c-4d80-8001-e82844d4ce43\">\n",
              "    <div class=\"colab-df-container\">\n",
              "      <div>\n",
              "<style scoped>\n",
              "    .dataframe tbody tr th:only-of-type {\n",
              "        vertical-align: middle;\n",
              "    }\n",
              "\n",
              "    .dataframe tbody tr th {\n",
              "        vertical-align: top;\n",
              "    }\n",
              "\n",
              "    .dataframe thead th {\n",
              "        text-align: right;\n",
              "    }\n",
              "</style>\n",
              "<table border=\"1\" class=\"dataframe\">\n",
              "  <thead>\n",
              "    <tr style=\"text-align: right;\">\n",
              "      <th></th>\n",
              "      <th>label</th>\n",
              "      <th>file</th>\n",
              "      <th>path</th>\n",
              "    </tr>\n",
              "  </thead>\n",
              "  <tbody>\n",
              "    <tr>\n",
              "      <th>0</th>\n",
              "      <td>sheila</td>\n",
              "      <td>88a487ce_nohash_0.wav</td>\n",
              "      <td>/content/gdrive/MyDrive/speech_commands_v02/sh...</td>\n",
              "    </tr>\n",
              "    <tr>\n",
              "      <th>1</th>\n",
              "      <td>sheila</td>\n",
              "      <td>68effe85_nohash_0.wav</td>\n",
              "      <td>/content/gdrive/MyDrive/speech_commands_v02/sh...</td>\n",
              "    </tr>\n",
              "    <tr>\n",
              "      <th>2</th>\n",
              "      <td>sheila</td>\n",
              "      <td>56eb74ae_nohash_0.wav</td>\n",
              "      <td>/content/gdrive/MyDrive/speech_commands_v02/sh...</td>\n",
              "    </tr>\n",
              "    <tr>\n",
              "      <th>3</th>\n",
              "      <td>sheila</td>\n",
              "      <td>f33660af_nohash_0.wav</td>\n",
              "      <td>/content/gdrive/MyDrive/speech_commands_v02/sh...</td>\n",
              "    </tr>\n",
              "    <tr>\n",
              "      <th>4</th>\n",
              "      <td>sheila</td>\n",
              "      <td>14587ff0_nohash_0.wav</td>\n",
              "      <td>/content/gdrive/MyDrive/speech_commands_v02/sh...</td>\n",
              "    </tr>\n",
              "    <tr>\n",
              "      <th>...</th>\n",
              "      <td>...</td>\n",
              "      <td>...</td>\n",
              "      <td>...</td>\n",
              "    </tr>\n",
              "    <tr>\n",
              "      <th>105824</th>\n",
              "      <td>five</td>\n",
              "      <td>2bdbe5f7_nohash_1.wav</td>\n",
              "      <td>/content/gdrive/MyDrive/speech_commands_v02/fi...</td>\n",
              "    </tr>\n",
              "    <tr>\n",
              "      <th>105825</th>\n",
              "      <td>five</td>\n",
              "      <td>91b03183_nohash_2.wav</td>\n",
              "      <td>/content/gdrive/MyDrive/speech_commands_v02/fi...</td>\n",
              "    </tr>\n",
              "    <tr>\n",
              "      <th>105826</th>\n",
              "      <td>five</td>\n",
              "      <td>64e48f55_nohash_2.wav</td>\n",
              "      <td>/content/gdrive/MyDrive/speech_commands_v02/fi...</td>\n",
              "    </tr>\n",
              "    <tr>\n",
              "      <th>105827</th>\n",
              "      <td>five</td>\n",
              "      <td>b5cf6ea8_nohash_10.wav</td>\n",
              "      <td>/content/gdrive/MyDrive/speech_commands_v02/fi...</td>\n",
              "    </tr>\n",
              "    <tr>\n",
              "      <th>105828</th>\n",
              "      <td>five</td>\n",
              "      <td>9db2bfe9_nohash_2.wav</td>\n",
              "      <td>/content/gdrive/MyDrive/speech_commands_v02/fi...</td>\n",
              "    </tr>\n",
              "  </tbody>\n",
              "</table>\n",
              "<p>105829 rows × 3 columns</p>\n",
              "</div>\n",
              "      <button class=\"colab-df-convert\" onclick=\"convertToInteractive('df-2e579e6e-361c-4d80-8001-e82844d4ce43')\"\n",
              "              title=\"Convert this dataframe to an interactive table.\"\n",
              "              style=\"display:none;\">\n",
              "        \n",
              "  <svg xmlns=\"http://www.w3.org/2000/svg\" height=\"24px\"viewBox=\"0 0 24 24\"\n",
              "       width=\"24px\">\n",
              "    <path d=\"M0 0h24v24H0V0z\" fill=\"none\"/>\n",
              "    <path d=\"M18.56 5.44l.94 2.06.94-2.06 2.06-.94-2.06-.94-.94-2.06-.94 2.06-2.06.94zm-11 1L8.5 8.5l.94-2.06 2.06-.94-2.06-.94L8.5 2.5l-.94 2.06-2.06.94zm10 10l.94 2.06.94-2.06 2.06-.94-2.06-.94-.94-2.06-.94 2.06-2.06.94z\"/><path d=\"M17.41 7.96l-1.37-1.37c-.4-.4-.92-.59-1.43-.59-.52 0-1.04.2-1.43.59L10.3 9.45l-7.72 7.72c-.78.78-.78 2.05 0 2.83L4 21.41c.39.39.9.59 1.41.59.51 0 1.02-.2 1.41-.59l7.78-7.78 2.81-2.81c.8-.78.8-2.07 0-2.86zM5.41 20L4 18.59l7.72-7.72 1.47 1.35L5.41 20z\"/>\n",
              "  </svg>\n",
              "      </button>\n",
              "      \n",
              "  <style>\n",
              "    .colab-df-container {\n",
              "      display:flex;\n",
              "      flex-wrap:wrap;\n",
              "      gap: 12px;\n",
              "    }\n",
              "\n",
              "    .colab-df-convert {\n",
              "      background-color: #E8F0FE;\n",
              "      border: none;\n",
              "      border-radius: 50%;\n",
              "      cursor: pointer;\n",
              "      display: none;\n",
              "      fill: #1967D2;\n",
              "      height: 32px;\n",
              "      padding: 0 0 0 0;\n",
              "      width: 32px;\n",
              "    }\n",
              "\n",
              "    .colab-df-convert:hover {\n",
              "      background-color: #E2EBFA;\n",
              "      box-shadow: 0px 1px 2px rgba(60, 64, 67, 0.3), 0px 1px 3px 1px rgba(60, 64, 67, 0.15);\n",
              "      fill: #174EA6;\n",
              "    }\n",
              "\n",
              "    [theme=dark] .colab-df-convert {\n",
              "      background-color: #3B4455;\n",
              "      fill: #D2E3FC;\n",
              "    }\n",
              "\n",
              "    [theme=dark] .colab-df-convert:hover {\n",
              "      background-color: #434B5C;\n",
              "      box-shadow: 0px 1px 3px 1px rgba(0, 0, 0, 0.15);\n",
              "      filter: drop-shadow(0px 1px 2px rgba(0, 0, 0, 0.3));\n",
              "      fill: #FFFFFF;\n",
              "    }\n",
              "  </style>\n",
              "\n",
              "      <script>\n",
              "        const buttonEl =\n",
              "          document.querySelector('#df-2e579e6e-361c-4d80-8001-e82844d4ce43 button.colab-df-convert');\n",
              "        buttonEl.style.display =\n",
              "          google.colab.kernel.accessAllowed ? 'block' : 'none';\n",
              "\n",
              "        async function convertToInteractive(key) {\n",
              "          const element = document.querySelector('#df-2e579e6e-361c-4d80-8001-e82844d4ce43');\n",
              "          const dataTable =\n",
              "            await google.colab.kernel.invokeFunction('convertToInteractive',\n",
              "                                                     [key], {});\n",
              "          if (!dataTable) return;\n",
              "\n",
              "          const docLinkHtml = 'Like what you see? Visit the ' +\n",
              "            '<a target=\"_blank\" href=https://colab.research.google.com/notebooks/data_table.ipynb>data table notebook</a>'\n",
              "            + ' to learn more about interactive tables.';\n",
              "          element.innerHTML = '';\n",
              "          dataTable['output_type'] = 'display_data';\n",
              "          await google.colab.output.renderOutput(dataTable, element);\n",
              "          const docLink = document.createElement('div');\n",
              "          docLink.innerHTML = docLinkHtml;\n",
              "          element.appendChild(docLink);\n",
              "        }\n",
              "      </script>\n",
              "    </div>\n",
              "  </div>\n",
              "  "
            ],
            "text/plain": [
              "         label                    file  \\\n",
              "0       sheila   88a487ce_nohash_0.wav   \n",
              "1       sheila   68effe85_nohash_0.wav   \n",
              "2       sheila   56eb74ae_nohash_0.wav   \n",
              "3       sheila   f33660af_nohash_0.wav   \n",
              "4       sheila   14587ff0_nohash_0.wav   \n",
              "...        ...                     ...   \n",
              "105824    five   2bdbe5f7_nohash_1.wav   \n",
              "105825    five   91b03183_nohash_2.wav   \n",
              "105826    five   64e48f55_nohash_2.wav   \n",
              "105827    five  b5cf6ea8_nohash_10.wav   \n",
              "105828    five   9db2bfe9_nohash_2.wav   \n",
              "\n",
              "                                                     path  \n",
              "0       /content/gdrive/MyDrive/speech_commands_v02/sh...  \n",
              "1       /content/gdrive/MyDrive/speech_commands_v02/sh...  \n",
              "2       /content/gdrive/MyDrive/speech_commands_v02/sh...  \n",
              "3       /content/gdrive/MyDrive/speech_commands_v02/sh...  \n",
              "4       /content/gdrive/MyDrive/speech_commands_v02/sh...  \n",
              "...                                                   ...  \n",
              "105824  /content/gdrive/MyDrive/speech_commands_v02/fi...  \n",
              "105825  /content/gdrive/MyDrive/speech_commands_v02/fi...  \n",
              "105826  /content/gdrive/MyDrive/speech_commands_v02/fi...  \n",
              "105827  /content/gdrive/MyDrive/speech_commands_v02/fi...  \n",
              "105828  /content/gdrive/MyDrive/speech_commands_v02/fi...  \n",
              "\n",
              "[105829 rows x 3 columns]"
            ]
          },
          "execution_count": 6,
          "metadata": {},
          "output_type": "execute_result"
        }
      ],
      "source": [
        "wav_df"
      ]
    },
    {
      "cell_type": "code",
      "execution_count": 7,
      "metadata": {
        "id": "z-1oiMGy9MRu"
      },
      "outputs": [],
      "source": [
        "labels = [ 'backward', 'bed', 'bird', 'cat', 'dog', 'down', 'eight', 'five', 'follow', 'forward', 'four', 'go', 'happy', 'house', 'learn', 'left', 'marvin', 'nine', 'no', 'off', 'on', 'one', 'right', 'seven', 'sheila', 'six', 'stop', 'three', 'tree', 'two', 'up', 'visual', 'wow', 'yes', 'zero' ]"
      ]
    },
    {
      "cell_type": "code",
      "execution_count": null,
      "metadata": {
        "id": "C9p7jMAP9MPI"
      },
      "outputs": [],
      "source": [
        "#Duration of recordings \n",
        "diarkeia=[]\n",
        "for label in labels:\n",
        "    waves = [f for f in os.listdir(train_data_dir + '/'+ label) if f.endswith('.wav')]\n",
        "    for w in waves:\n",
        "        sample_rate, samples = wavfile.read(train_data_dir + '/'+ label + '/' + w)\n",
        "        diarkeia.append(float(len(samples)/sample_rate))\n",
        "d = np.array(diarkeia)   \n",
        "plt.hist(d)"
      ]
    },
    {
      "cell_type": "code",
      "execution_count": null,
      "metadata": {
        "id": "mqHv6a4E9MMt"
      },
      "outputs": [],
      "source": [
        "# Lengths of recordings\n",
        "lengths=[]\n",
        "for label in labels:\n",
        "    waves = [f for f in os.listdir(train_data_dir + '/'+ label) if f.endswith('.wav')]\n",
        "    for wav in waves:\n",
        "        sample_rate, samples = wavfile.read(train_data_dir + '/' + label + '/' + wav)\n",
        "        samples, sr= librosa.load(train_data_dir + '/' + label + '/' + wav, sr=sample_rate)\n",
        "        lengths.append(len(samples))\n",
        "      \n",
        "l=np.array(lengths)        \n",
        "plt.hist(l)"
      ]
    },
    {
      "cell_type": "code",
      "execution_count": null,
      "metadata": {
        "id": "HZNi6wtB9MKQ"
      },
      "outputs": [],
      "source": [
        "# Function for the Feature Extraction\n",
        "def feature_(samples, sr):\n",
        "    features_ = np.array([])\n",
        "\n",
        "    # Feature Extraction\n",
        "    mfcc = librosa.feature.mfcc(samples, sr = 16000, n_mfcc = 13)\n",
        "    delta1 = librosa.feature.delta(mfcc, order=1)\n",
        "    delta2 = librosa.feature.delta(mfcc, order=2)\n",
        "    features_ = np.concatenate((mfcc, delta1), axis=0)\n",
        "    features_ = np.concatenate((features_, delta2), axis=0)\n",
        "\n",
        "    print(features_.shape)\n",
        "    return features_"
      ]
    },
    {
      "cell_type": "code",
      "execution_count": null,
      "metadata": {
        "id": "CTVgneaQ9MFR"
      },
      "outputs": [],
      "source": [
        "def maxlength(npath, lengths):\n",
        "    nsample_rate, nsamples = wavfile.read(npath)\n",
        "    samples, srate = librosa.load(npath, nsample_rate)\n",
        "    lengths.append(len(samples))\n",
        "    return lengths"
      ]
    },
    {
      "cell_type": "code",
      "execution_count": null,
      "metadata": {
        "id": "PMTiYOZy9MC-"
      },
      "outputs": [],
      "source": [
        "len2=[]\n",
        "def padding(npath, mlength):\n",
        "    nsample_rate, nsamples = wavfile.read(npath)\n",
        "    samples, srate = librosa.load(npath, nsample_rate)\n",
        "    \n",
        "    if len(samples)<mlength:\n",
        "        m=int((mlength-len(samples))/2)\n",
        "        samples=np.pad(samples, pad_width=(m, m), mode='constant')\n",
        "        res1 = feature_(samples, srate)\n",
        "        result = np.array(res1)\n",
        "    print(len(samples))\n",
        "    len2.append(len(samples))\n",
        "    res1 = feature_(samples, srate)\n",
        "    result = np.array(res1)\n",
        "    return result"
      ]
    },
    {
      "cell_type": "code",
      "execution_count": null,
      "metadata": {
        "id": "p_5sm31g9MAf"
      },
      "outputs": [],
      "source": [
        "lengths=[]\n",
        "X_tr = []\n",
        "Y_tr = []\n",
        "\n",
        "#wav_df(train_data_dir)\n",
        "for path in wav_df.path:\n",
        "    leng = maxlength(path, lengths)  \n",
        "length2 = max(leng)\n",
        "\n",
        "for label, path in zip(wav_df.label, wav_df.path):\n",
        "    features = padding(path, length2)\n",
        "    X_tr.append(features)\n",
        "    Y_tr.append(label)"
      ]
    },
    {
      "cell_type": "code",
      "execution_count": null,
      "metadata": {
        "id": "QdqP5T1d9L8t"
      },
      "outputs": [],
      "source": [
        "import tensorflow as tf\n",
        "import tensorflow as tf\n",
        "from keras import utils as np_utils \n",
        "from sklearn.preprocessing import StandardScaler, OneHotEncoder, LabelEncoder\n",
        "\n",
        "scaler = StandardScaler()\n",
        "X_simple=np.array(X_tr)\n",
        "X_tr=np.array(X_tr)\n",
        "X_tr = scaler.fit_transform(X_tr.reshape(-1, X_tr.shape[-1])).reshape(X_tr.shape)\n",
        "print(X_tr.shape)"
      ]
    },
    {
      "cell_type": "code",
      "execution_count": null,
      "metadata": {
        "id": "KsQk5iq19L6f"
      },
      "outputs": [],
      "source": [
        "#Encoding the labels \n",
        "print(Y_tr[0])\n",
        "le = LabelEncoder()\n",
        "Y_tr = tf.keras.utils.to_categorical(le.fit_transform(Y_tr)) \n",
        "print(Y_tr[0])"
      ]
    },
    {
      "cell_type": "code",
      "execution_count": null,
      "metadata": {
        "id": "-iFpVv4t9L1x"
      },
      "outputs": [],
      "source": [
        "import tensorflow as tf\n",
        "from tensorflow import keras\n",
        "from sklearn.model_selection import train_test_split\n",
        "from keras.models import Sequential\n",
        "from keras.layers import *\n",
        "#from keras.layers import Dense, Dropout, Flatten, Input, Conv2D, MaxPooling2D, BatchNormalization\n",
        "from tensorflow.keras.optimizers import Adam, SGD, RMSprop, Nadam, Adamax\n",
        "from keras.callbacks import ReduceLROnPlateau, ModelCheckpoint, EarlyStopping\n",
        "from keras.constraints import maxnorm\n",
        "\n",
        "from keras import backend as K\n",
        "K.clear_session()\n",
        "\n",
        "import warnings\n",
        "if not sys.warnoptions:\n",
        "    warnings.simplefilter(\"ignore\")\n",
        "warnings.filterwarnings(\"ignore\", category=DeprecationWarning) "
      ]
    },
    {
      "cell_type": "code",
      "execution_count": null,
      "metadata": {
        "id": "Bk7jT4hd9LzO"
      },
      "outputs": [],
      "source": [
        "x_train, x_test, y_train, y_test = train_test_split(X_tr, Y_tr, test_size=0.2, random_state=1, shuffle=True)\n",
        "x_train.shape, y_train.shape, x_test.shape, y_test.shape "
      ]
    },
    {
      "cell_type": "code",
      "execution_count": null,
      "metadata": {
        "id": "yvlYvMzc9Lrt"
      },
      "outputs": [],
      "source": [
        "x_train = np.expand_dims(x_train, axis=3)\n",
        "x_test = np.expand_dims(x_test, axis=3)\n",
        "x_train.shape, y_train.shape, x_test.shape, y_test.shape"
      ]
    },
    {
      "cell_type": "code",
      "execution_count": null,
      "metadata": {
        "id": "YSIoBcDi_UF8"
      },
      "outputs": [],
      "source": [
        "print(x_train.shape[1])\n",
        "print(x_train.shape[2])"
      ]
    },
    {
      "cell_type": "code",
      "execution_count": null,
      "metadata": {
        "id": "UDB2VzKT_UDe"
      },
      "outputs": [],
      "source": [
        "input_shape = (x_train.shape[1], x_train.shape[2])"
      ]
    },
    {
      "cell_type": "code",
      "execution_count": null,
      "metadata": {
        "id": "XPdn6T-W_UBC"
      },
      "outputs": [],
      "source": [
        "# CNN1D + RNN LSTM (with one cnn1d layer)"
      ]
    },
    {
      "cell_type": "code",
      "execution_count": null,
      "metadata": {
        "id": "6WSjgzqD_T-j"
      },
      "outputs": [],
      "source": [
        "model = tf.keras.models.Sequential()\n",
        "\n",
        "# first conv1D layer\n",
        "model.add(Conv1D(128, kernel_size=3, strides = 1, padding='same', activation='relu', input_shape = input_shape))\n",
        "model.add(MaxPooling1D(pool_size=2, strides = 1, padding = 'same'))\n",
        "model.add(BatchNormalization())\n",
        "# lstm\n",
        "model.add(tf.keras.layers.LSTM(150, return_sequences=True, stateful=False ))\n",
        "\n",
        "# lstm\n",
        "model.add(tf.keras.layers.LSTM(100))\n",
        "model.add(tf.keras.layers.Dropout(0.2)) \n",
        "\n",
        "model.add(tf.keras.layers.Dense(512, activation='relu'))\n",
        "model.add(tf.keras.layers.Dropout(0.2)) \n",
        "\n",
        "model.add(tf.keras.layers.Dense(len(labels), activation='softmax'))\n",
        "model.summary()"
      ]
    },
    {
      "cell_type": "code",
      "execution_count": null,
      "metadata": {
        "id": "JT94ZGrg_T7I"
      },
      "outputs": [],
      "source": [
        "keras.utils.plot_model(model, 'model.png',show_shapes=True)"
      ]
    },
    {
      "cell_type": "code",
      "execution_count": null,
      "metadata": {
        "id": "H7RkJ7j_9Kvy"
      },
      "outputs": [],
      "source": [
        "# CNN1D + RNN LSTM (with two cnn1d layers)"
      ]
    },
    {
      "cell_type": "code",
      "execution_count": null,
      "metadata": {
        "id": "1Vxt83L1_ltR"
      },
      "outputs": [],
      "source": [
        "model = tf.keras.models.Sequential()\n",
        "\n",
        "# first conv1D layer\n",
        "model.add(Conv1D(256, kernel_size=3, strides = 1, padding='same', activation='relu', input_shape = input_shape))\n",
        "model.add(MaxPooling1D(pool_size=2, strides = 1, padding = 'same'))\n",
        "model.add(BatchNormalization())\n",
        "\n",
        "# second conv1D layer\n",
        "model.add(Conv1D(128, kernel_size=3, strides = 1, padding='same', activation='relu'))\n",
        "model.add(MaxPooling1D(pool_size=2, strides = 1, padding = 'same'))\n",
        "model.add(BatchNormalization())\n",
        "\n",
        "# lstm 1st layer\n",
        "model.add(tf.keras.layers.LSTM(150, return_sequences=True, stateful=False))\n",
        "# lstm 2nd layer\n",
        "model.add(tf.keras.layers.LSTM(100)) \n",
        "model.add(tf.keras.layers.Dropout(0.2)) \n",
        "\n",
        "model.add(tf.keras.layers.Dense(512, activation='relu'))\n",
        "model.add(tf.keras.layers.Dropout(0.2)) \n",
        "\n",
        "model.add(tf.keras.layers.Dense(len(labels), activation='softmax'))\n",
        "model.summary()"
      ]
    },
    {
      "cell_type": "code",
      "execution_count": null,
      "metadata": {
        "id": "rC7iaIzt_lqs"
      },
      "outputs": [],
      "source": [
        "keras.utils.plot_model(model, 'model2.png',show_shapes=True)"
      ]
    },
    {
      "cell_type": "code",
      "execution_count": null,
      "metadata": {
        "id": "llAOrBAr_lob"
      },
      "outputs": [],
      "source": [
        "# RNN lstm"
      ]
    },
    {
      "cell_type": "code",
      "execution_count": null,
      "metadata": {
        "id": "t6Bc2k3q_lmO"
      },
      "outputs": [],
      "source": [
        "model = tf.keras.models.Sequential()\n",
        "\n",
        "model.add(tf.keras.layers.LSTM(150, return_sequences=True, stateful=False, input_shape = input_shape))\n",
        "\n",
        "model.add(tf.keras.layers.LSTM(100)) \n",
        "model.add(tf.keras.layers.Dense(512, activation='relu'))\n",
        "model.add(tf.keras.layers.Dropout(0.2)) \n",
        "\n",
        "model.add(tf.keras.layers.Dense(len(labels), activation='softmax'))\n",
        "model.summary()"
      ]
    },
    {
      "cell_type": "code",
      "execution_count": null,
      "metadata": {
        "id": "UGipaC3B_lkG"
      },
      "outputs": [],
      "source": [
        "keras.utils.plot_model(model, 'model3.png',show_shapes=True)"
      ]
    },
    {
      "cell_type": "code",
      "execution_count": null,
      "metadata": {
        "id": "vaiUFGMY_liG"
      },
      "outputs": [],
      "source": [
        "# RNN GRU # Define GRU based recurrent network architecture"
      ]
    },
    {
      "cell_type": "code",
      "execution_count": null,
      "metadata": {
        "id": "jy3ufki1_lgF"
      },
      "outputs": [],
      "source": [
        "model = tf.keras.models.Sequential()\n",
        "\n",
        "model.add(keras.layers.GRU(128, input_shape=input_shape))\n",
        "\n",
        "model.add(tf.keras.layers.Dense(512, activation='relu'))\n",
        "model.add(tf.keras.layers.Dropout(0.2)) \n",
        "model.add(tf.keras.layers.Dense(len(labels), activation='softmax'))\n",
        "\n",
        "model.summary()"
      ]
    },
    {
      "cell_type": "code",
      "execution_count": null,
      "metadata": {
        "id": "4lleJ6ui_leC"
      },
      "outputs": [],
      "source": [
        "opt = tf.keras.optimizers.Adam(learning_rate=1e-4)"
      ]
    },
    {
      "cell_type": "code",
      "execution_count": null,
      "metadata": {
        "id": "kQGHJ2WQ_lb3"
      },
      "outputs": [],
      "source": [
        "model.compile(loss='categorical_crossentropy', optimizer = opt, metrics=['accuracy'])"
      ]
    },
    {
      "cell_type": "code",
      "execution_count": null,
      "metadata": {
        "id": "GWqcEcOd_lZt"
      },
      "outputs": [],
      "source": [
        "es = EarlyStopping(monitor='val_loss', mode='min', verbose=1, patience=10, min_delta=0.0001) "
      ]
    },
    {
      "cell_type": "code",
      "execution_count": null,
      "metadata": {
        "id": "wkGYS1rV_3cD"
      },
      "outputs": [],
      "source": [
        "history = model.fit(x_train, y_train,validation_data=(x_test,y_test), callbacks = es, epochs=200, batch_size=32)"
      ]
    },
    {
      "cell_type": "code",
      "execution_count": null,
      "metadata": {
        "id": "JP1_NOMg_3GO"
      },
      "outputs": [],
      "source": [
        "# Summarize history for accuracy\n",
        "plt.plot(history.history['accuracy'])\n",
        "plt.plot(history.history['val_accuracy'])\n",
        "plt.title('Model accuracy')\n",
        "plt.ylabel('accuracy')\n",
        "plt.xlabel('epoch')\n",
        "plt.legend(['train', 'test'], loc='upper left')\n",
        "plt.show()"
      ]
    },
    {
      "cell_type": "code",
      "execution_count": null,
      "metadata": {
        "id": "wgMKy17tAG5R"
      },
      "outputs": [],
      "source": [
        "# Summarize history for loss\n",
        "plt.plot(history.history['loss'])\n",
        "plt.plot(history.history['val_loss'])\n",
        "plt.title('Model loss')\n",
        "plt.ylabel('loss')\n",
        "plt.xlabel('epoch')\n",
        "plt.legend(['train', 'test'], loc='upper left')\n",
        "plt.show()"
      ]
    },
    {
      "cell_type": "code",
      "execution_count": null,
      "metadata": {
        "id": "NRL7F0LBAG3C"
      },
      "outputs": [],
      "source": [
        "train_score = model.evaluate(x_train, y_train)\n",
        "accuracy = 100*train_score[1]\n",
        "print(\"Accuracy of our model on train data: %.4f%%\" % accuracy)\n",
        "#-------------------------------------------------------------------\n",
        "test_score = model.evaluate(x_test, y_test)\n",
        "accuracy = 100*test_score[1]\n",
        "print(\"Accuracy of our model on test data: %.4f%%\" % accuracy"
      ]
    },
    {
      "cell_type": "code",
      "execution_count": null,
      "metadata": {
        "id": "JeB4JDIjAG0g"
      },
      "outputs": [],
      "source": [
        "pred = model.predict(x_test) \n",
        "pred = np.argmax(pred, axis = 1)\n",
        "label = np.argmax(y_test,axis = 1)\n",
        "\n",
        "print(pred) \n",
        "print(label)"
      ]
    },
    {
      "cell_type": "code",
      "execution_count": null,
      "metadata": {
        "id": "ur-53Xu9AGxs"
      },
      "outputs": [],
      "source": [
        "df = pd.DataFrame(columns=['Predicted Labels', 'Actual Labels'])\n",
        "df['Predicted Labels'] = pred.flatten()\n",
        "df['Actual Labels'] = label.flatten()\n",
        "\n",
        "df.head(10)"
      ]
    },
    {
      "cell_type": "code",
      "execution_count": null,
      "metadata": {
        "id": "RBwrZw37AGnu"
      },
      "outputs": [],
      "source": [
        "# Confusion matrix\n",
        "from sklearn.metrics import confusion_matrix\n",
        "import seaborn as sn\n",
        "prediction= model.predict(x_test)\n",
        "y_1=prediction.argmax(axis=-1)\n",
        "y_2=y_test.argmax(axis=1)\n",
        "print(y_1)\n",
        "print(y_2)\n",
        "\n",
        "conf_matrix=confusion_matrix(y_2, y_1)\n",
        "classes = [ 'backward', 'bed', 'bird', 'cat', 'dog', 'down', 'eight', 'five', 'follow', 'forward', 'four', 'go', 'happy', 'house', 'learn', 'left', 'marvin', 'nine', 'no', 'off', 'on', 'one', 'right', 'seven', 'sheila', 'six', 'stop', 'three', 'tree', 'two', 'up', 'visual', 'wow', 'yes', 'zero' ]\n",
        "df =pd.DataFrame(conf_matrix,index =[i for i in classes], columns = [i for i in classes])\n",
        "plt.figure(figsize = (35,35))\n",
        "splot = sn.heatmap(df, annot=True)\n",
        "plt.title(\"Confusion Matrix\", fontsize=30)\n",
        "plt.ylabel(\"True Class\"     , fontsize=30)\n",
        "plt.xlabel(\"Predicted Class\", fontsize=30)"
      ]
    },
    {
      "cell_type": "code",
      "execution_count": null,
      "metadata": {
        "id": "20ztSeJqANao"
      },
      "outputs": [],
      "source": [
        "from sklearn.metrics import classification_report\n",
        "print(classification_report(y_2, y_1))"
      ]
    },
    {
      "cell_type": "code",
      "execution_count": null,
      "metadata": {
        "id": "aaq10exyAREI"
      },
      "outputs": [],
      "source": [
        "from keras.models import load_model\n",
        "model.save(\"SpeechRModel_2.h5\")"
      ]
    }
  ],
  "metadata": {
    "colab": {
      "collapsed_sections": [],
      "name": "code_speech2.ipynb",
      "provenance": []
    },
    "kernelspec": {
      "display_name": "Python 3",
      "name": "python3"
    },
    "language_info": {
      "name": "python"
    }
  },
  "nbformat": 4,
  "nbformat_minor": 0
}
